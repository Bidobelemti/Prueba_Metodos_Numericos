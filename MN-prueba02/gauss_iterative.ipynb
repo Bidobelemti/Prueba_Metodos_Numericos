{
 "cells": [
  {
   "cell_type": "code",
   "execution_count": 1,
   "metadata": {},
   "outputs": [],
   "source": [
    "%load_ext autoreload"
   ]
  },
  {
   "cell_type": "markdown",
   "metadata": {},
   "source": [
    "# Examen\n",
    "## Gauss-Jacobi y Gauss-Seidel"
   ]
  },
  {
   "cell_type": "code",
   "execution_count": 2,
   "metadata": {},
   "outputs": [
    {
     "name": "stdout",
     "output_type": "stream",
     "text": [
      "[07-19 20:37:06][INFO] 2024-07-19 20:37:06.357973\n",
      "[07-19 20:37:06][INFO] 2024-07-19 20:37:06.452885\n",
      "[07-19 20:37:06][INFO] 2024-07-19 20:37:06.454584\n",
      "[07-19 20:37:06][INFO] \n",
      "[[ 1.  1.  7.]\n",
      " [ 0.  7. 14.]]\n"
     ]
    },
    {
     "data": {
      "text/plain": [
       "array([5., 2.])"
      ]
     },
     "execution_count": 2,
     "metadata": {},
     "output_type": "execute_result"
    }
   ],
   "source": [
    "%autoreload 2\n",
    "from src import eliminacion_gaussiana, matriz_aumentada\n",
    "A = [[1, 1], [-2, 5]]\n",
    "b = [7, 0]\n",
    "eliminacion_gaussiana(matriz_aumentada(A, b))"
   ]
  },
  {
   "cell_type": "code",
   "execution_count": 30,
   "metadata": {},
   "outputs": [
    {
     "name": "stdout",
     "output_type": "stream",
     "text": [
      "[07-19 21:03:36][INFO] 2024-07-19 21:03:36.484638\n",
      "[[7.]\n",
      " [0.]] x  [<built-in method copy of numpy.ndarray object at 0x0000025A7333D590>]  historua\n",
      "[[7. ]\n",
      " [2.8]] x  [<built-in method copy of numpy.ndarray object at 0x0000025A7333D590>, <built-in method copy of numpy.ndarray object at 0x0000025A7333D1D0>]  historua\n",
      "[[4.2]\n",
      " [2.8]] x  [<built-in method copy of numpy.ndarray object at 0x0000025A7333D590>, <built-in method copy of numpy.ndarray object at 0x0000025A7333D1D0>, <built-in method copy of numpy.ndarray object at 0x0000025A73D8FCF0>]  historua\n",
      "[[4.2 ]\n",
      " [1.68]] x  [<built-in method copy of numpy.ndarray object at 0x0000025A7333D590>, <built-in method copy of numpy.ndarray object at 0x0000025A7333D1D0>, <built-in method copy of numpy.ndarray object at 0x0000025A73D8FCF0>, <built-in method copy of numpy.ndarray object at 0x0000025A73D8F9F0>]  historua\n",
      "[[5.32]\n",
      " [1.68]] x  [<built-in method copy of numpy.ndarray object at 0x0000025A7333D590>, <built-in method copy of numpy.ndarray object at 0x0000025A7333D1D0>, <built-in method copy of numpy.ndarray object at 0x0000025A73D8FCF0>, <built-in method copy of numpy.ndarray object at 0x0000025A73D8F9F0>, <built-in method copy of numpy.ndarray object at 0x0000025A73D8FD50>]  historua\n",
      "[[5.32 ]\n",
      " [2.128]] x  [<built-in method copy of numpy.ndarray object at 0x0000025A7333D590>, <built-in method copy of numpy.ndarray object at 0x0000025A7333D1D0>, <built-in method copy of numpy.ndarray object at 0x0000025A73D8FCF0>, <built-in method copy of numpy.ndarray object at 0x0000025A73D8F9F0>, <built-in method copy of numpy.ndarray object at 0x0000025A73D8FD50>, <built-in method copy of numpy.ndarray object at 0x0000025A73D8DAD0>]  historua\n",
      "[[4.872]\n",
      " [2.128]] x  [<built-in method copy of numpy.ndarray object at 0x0000025A7333D590>, <built-in method copy of numpy.ndarray object at 0x0000025A7333D1D0>, <built-in method copy of numpy.ndarray object at 0x0000025A73D8FCF0>, <built-in method copy of numpy.ndarray object at 0x0000025A73D8F9F0>, <built-in method copy of numpy.ndarray object at 0x0000025A73D8FD50>, <built-in method copy of numpy.ndarray object at 0x0000025A73D8DAD0>, <built-in method copy of numpy.ndarray object at 0x0000025A73D8D710>]  historua\n",
      "[[4.872 ]\n",
      " [1.9488]] x  [<built-in method copy of numpy.ndarray object at 0x0000025A7333D590>, <built-in method copy of numpy.ndarray object at 0x0000025A7333D1D0>, <built-in method copy of numpy.ndarray object at 0x0000025A73D8FCF0>, <built-in method copy of numpy.ndarray object at 0x0000025A73D8F9F0>, <built-in method copy of numpy.ndarray object at 0x0000025A73D8FD50>, <built-in method copy of numpy.ndarray object at 0x0000025A73D8DAD0>, <built-in method copy of numpy.ndarray object at 0x0000025A73D8D710>, <built-in method copy of numpy.ndarray object at 0x0000025A73D8D950>]  historua\n",
      "[[5.0512]\n",
      " [1.9488]] x  [<built-in method copy of numpy.ndarray object at 0x0000025A7333D590>, <built-in method copy of numpy.ndarray object at 0x0000025A7333D1D0>, <built-in method copy of numpy.ndarray object at 0x0000025A73D8FCF0>, <built-in method copy of numpy.ndarray object at 0x0000025A73D8F9F0>, <built-in method copy of numpy.ndarray object at 0x0000025A73D8FD50>, <built-in method copy of numpy.ndarray object at 0x0000025A73D8DAD0>, <built-in method copy of numpy.ndarray object at 0x0000025A73D8D710>, <built-in method copy of numpy.ndarray object at 0x0000025A73D8D950>, <built-in method copy of numpy.ndarray object at 0x0000025A73D8D4D0>]  historua\n",
      "[[5.0512 ]\n",
      " [2.02048]] x  [<built-in method copy of numpy.ndarray object at 0x0000025A7333D590>, <built-in method copy of numpy.ndarray object at 0x0000025A7333D1D0>, <built-in method copy of numpy.ndarray object at 0x0000025A73D8FCF0>, <built-in method copy of numpy.ndarray object at 0x0000025A73D8F9F0>, <built-in method copy of numpy.ndarray object at 0x0000025A73D8FD50>, <built-in method copy of numpy.ndarray object at 0x0000025A73D8DAD0>, <built-in method copy of numpy.ndarray object at 0x0000025A73D8D710>, <built-in method copy of numpy.ndarray object at 0x0000025A73D8D950>, <built-in method copy of numpy.ndarray object at 0x0000025A73D8D4D0>, <built-in method copy of numpy.ndarray object at 0x0000025A73D8D650>]  historua\n",
      "[[4.97952]\n",
      " [2.02048]] x  [<built-in method copy of numpy.ndarray object at 0x0000025A7333D590>, <built-in method copy of numpy.ndarray object at 0x0000025A7333D1D0>, <built-in method copy of numpy.ndarray object at 0x0000025A73D8FCF0>, <built-in method copy of numpy.ndarray object at 0x0000025A73D8F9F0>, <built-in method copy of numpy.ndarray object at 0x0000025A73D8FD50>, <built-in method copy of numpy.ndarray object at 0x0000025A73D8DAD0>, <built-in method copy of numpy.ndarray object at 0x0000025A73D8D710>, <built-in method copy of numpy.ndarray object at 0x0000025A73D8D950>, <built-in method copy of numpy.ndarray object at 0x0000025A73D8D4D0>, <built-in method copy of numpy.ndarray object at 0x0000025A73D8D650>, <built-in method copy of numpy.ndarray object at 0x0000025A73D8D590>]  historua\n",
      "[[4.97952 ]\n",
      " [1.991808]] x  [<built-in method copy of numpy.ndarray object at 0x0000025A7333D590>, <built-in method copy of numpy.ndarray object at 0x0000025A7333D1D0>, <built-in method copy of numpy.ndarray object at 0x0000025A73D8FCF0>, <built-in method copy of numpy.ndarray object at 0x0000025A73D8F9F0>, <built-in method copy of numpy.ndarray object at 0x0000025A73D8FD50>, <built-in method copy of numpy.ndarray object at 0x0000025A73D8DAD0>, <built-in method copy of numpy.ndarray object at 0x0000025A73D8D710>, <built-in method copy of numpy.ndarray object at 0x0000025A73D8D950>, <built-in method copy of numpy.ndarray object at 0x0000025A73D8D4D0>, <built-in method copy of numpy.ndarray object at 0x0000025A73D8D650>, <built-in method copy of numpy.ndarray object at 0x0000025A73D8D590>, <built-in method copy of numpy.ndarray object at 0x0000025A73D8D410>]  historua\n",
      "[[5.008192]\n",
      " [1.991808]] x  [<built-in method copy of numpy.ndarray object at 0x0000025A7333D590>, <built-in method copy of numpy.ndarray object at 0x0000025A7333D1D0>, <built-in method copy of numpy.ndarray object at 0x0000025A73D8FCF0>, <built-in method copy of numpy.ndarray object at 0x0000025A73D8F9F0>, <built-in method copy of numpy.ndarray object at 0x0000025A73D8FD50>, <built-in method copy of numpy.ndarray object at 0x0000025A73D8DAD0>, <built-in method copy of numpy.ndarray object at 0x0000025A73D8D710>, <built-in method copy of numpy.ndarray object at 0x0000025A73D8D950>, <built-in method copy of numpy.ndarray object at 0x0000025A73D8D4D0>, <built-in method copy of numpy.ndarray object at 0x0000025A73D8D650>, <built-in method copy of numpy.ndarray object at 0x0000025A73D8D590>, <built-in method copy of numpy.ndarray object at 0x0000025A73D8D410>, <built-in method copy of numpy.ndarray object at 0x0000025A73D8CFF0>]  historua\n",
      "[[5.008192 ]\n",
      " [2.0032768]] x  [<built-in method copy of numpy.ndarray object at 0x0000025A7333D590>, <built-in method copy of numpy.ndarray object at 0x0000025A7333D1D0>, <built-in method copy of numpy.ndarray object at 0x0000025A73D8FCF0>, <built-in method copy of numpy.ndarray object at 0x0000025A73D8F9F0>, <built-in method copy of numpy.ndarray object at 0x0000025A73D8FD50>, <built-in method copy of numpy.ndarray object at 0x0000025A73D8DAD0>, <built-in method copy of numpy.ndarray object at 0x0000025A73D8D710>, <built-in method copy of numpy.ndarray object at 0x0000025A73D8D950>, <built-in method copy of numpy.ndarray object at 0x0000025A73D8D4D0>, <built-in method copy of numpy.ndarray object at 0x0000025A73D8D650>, <built-in method copy of numpy.ndarray object at 0x0000025A73D8D590>, <built-in method copy of numpy.ndarray object at 0x0000025A73D8D410>, <built-in method copy of numpy.ndarray object at 0x0000025A73D8CFF0>, <built-in method copy of numpy.ndarray object at 0x0000025A73D8FBD0>]  historua\n",
      "[[4.9967232]\n",
      " [2.0032768]] x  [<built-in method copy of numpy.ndarray object at 0x0000025A7333D590>, <built-in method copy of numpy.ndarray object at 0x0000025A7333D1D0>, <built-in method copy of numpy.ndarray object at 0x0000025A73D8FCF0>, <built-in method copy of numpy.ndarray object at 0x0000025A73D8F9F0>, <built-in method copy of numpy.ndarray object at 0x0000025A73D8FD50>, <built-in method copy of numpy.ndarray object at 0x0000025A73D8DAD0>, <built-in method copy of numpy.ndarray object at 0x0000025A73D8D710>, <built-in method copy of numpy.ndarray object at 0x0000025A73D8D950>, <built-in method copy of numpy.ndarray object at 0x0000025A73D8D4D0>, <built-in method copy of numpy.ndarray object at 0x0000025A73D8D650>, <built-in method copy of numpy.ndarray object at 0x0000025A73D8D590>, <built-in method copy of numpy.ndarray object at 0x0000025A73D8D410>, <built-in method copy of numpy.ndarray object at 0x0000025A73D8CFF0>, <built-in method copy of numpy.ndarray object at 0x0000025A73D8FBD0>, <built-in method copy of numpy.ndarray object at 0x0000025A73D8D8F0>]  historua\n",
      "[[4.9967232 ]\n",
      " [1.99868928]] x  [<built-in method copy of numpy.ndarray object at 0x0000025A7333D590>, <built-in method copy of numpy.ndarray object at 0x0000025A7333D1D0>, <built-in method copy of numpy.ndarray object at 0x0000025A73D8FCF0>, <built-in method copy of numpy.ndarray object at 0x0000025A73D8F9F0>, <built-in method copy of numpy.ndarray object at 0x0000025A73D8FD50>, <built-in method copy of numpy.ndarray object at 0x0000025A73D8DAD0>, <built-in method copy of numpy.ndarray object at 0x0000025A73D8D710>, <built-in method copy of numpy.ndarray object at 0x0000025A73D8D950>, <built-in method copy of numpy.ndarray object at 0x0000025A73D8D4D0>, <built-in method copy of numpy.ndarray object at 0x0000025A73D8D650>, <built-in method copy of numpy.ndarray object at 0x0000025A73D8D590>, <built-in method copy of numpy.ndarray object at 0x0000025A73D8D410>, <built-in method copy of numpy.ndarray object at 0x0000025A73D8CFF0>, <built-in method copy of numpy.ndarray object at 0x0000025A73D8FBD0>, <built-in method copy of numpy.ndarray object at 0x0000025A73D8D8F0>, <built-in method copy of numpy.ndarray object at 0x0000025A73D8CD50>]  historua\n",
      "[[5.00131072]\n",
      " [1.99868928]] x  [<built-in method copy of numpy.ndarray object at 0x0000025A7333D590>, <built-in method copy of numpy.ndarray object at 0x0000025A7333D1D0>, <built-in method copy of numpy.ndarray object at 0x0000025A73D8FCF0>, <built-in method copy of numpy.ndarray object at 0x0000025A73D8F9F0>, <built-in method copy of numpy.ndarray object at 0x0000025A73D8FD50>, <built-in method copy of numpy.ndarray object at 0x0000025A73D8DAD0>, <built-in method copy of numpy.ndarray object at 0x0000025A73D8D710>, <built-in method copy of numpy.ndarray object at 0x0000025A73D8D950>, <built-in method copy of numpy.ndarray object at 0x0000025A73D8D4D0>, <built-in method copy of numpy.ndarray object at 0x0000025A73D8D650>, <built-in method copy of numpy.ndarray object at 0x0000025A73D8D590>, <built-in method copy of numpy.ndarray object at 0x0000025A73D8D410>, <built-in method copy of numpy.ndarray object at 0x0000025A73D8CFF0>, <built-in method copy of numpy.ndarray object at 0x0000025A73D8FBD0>, <built-in method copy of numpy.ndarray object at 0x0000025A73D8D8F0>, <built-in method copy of numpy.ndarray object at 0x0000025A73D8CD50>, <built-in method copy of numpy.ndarray object at 0x0000025A73D8EFD0>]  historua\n",
      "[[5.00131072]\n",
      " [2.00052429]] x  [<built-in method copy of numpy.ndarray object at 0x0000025A7333D590>, <built-in method copy of numpy.ndarray object at 0x0000025A7333D1D0>, <built-in method copy of numpy.ndarray object at 0x0000025A73D8FCF0>, <built-in method copy of numpy.ndarray object at 0x0000025A73D8F9F0>, <built-in method copy of numpy.ndarray object at 0x0000025A73D8FD50>, <built-in method copy of numpy.ndarray object at 0x0000025A73D8DAD0>, <built-in method copy of numpy.ndarray object at 0x0000025A73D8D710>, <built-in method copy of numpy.ndarray object at 0x0000025A73D8D950>, <built-in method copy of numpy.ndarray object at 0x0000025A73D8D4D0>, <built-in method copy of numpy.ndarray object at 0x0000025A73D8D650>, <built-in method copy of numpy.ndarray object at 0x0000025A73D8D590>, <built-in method copy of numpy.ndarray object at 0x0000025A73D8D410>, <built-in method copy of numpy.ndarray object at 0x0000025A73D8CFF0>, <built-in method copy of numpy.ndarray object at 0x0000025A73D8FBD0>, <built-in method copy of numpy.ndarray object at 0x0000025A73D8D8F0>, <built-in method copy of numpy.ndarray object at 0x0000025A73D8CD50>, <built-in method copy of numpy.ndarray object at 0x0000025A73D8EFD0>, <built-in method copy of numpy.ndarray object at 0x0000025A73D8DF50>]  historua\n",
      "[[4.99947571]\n",
      " [2.00052429]] x  [<built-in method copy of numpy.ndarray object at 0x0000025A7333D590>, <built-in method copy of numpy.ndarray object at 0x0000025A7333D1D0>, <built-in method copy of numpy.ndarray object at 0x0000025A73D8FCF0>, <built-in method copy of numpy.ndarray object at 0x0000025A73D8F9F0>, <built-in method copy of numpy.ndarray object at 0x0000025A73D8FD50>, <built-in method copy of numpy.ndarray object at 0x0000025A73D8DAD0>, <built-in method copy of numpy.ndarray object at 0x0000025A73D8D710>, <built-in method copy of numpy.ndarray object at 0x0000025A73D8D950>, <built-in method copy of numpy.ndarray object at 0x0000025A73D8D4D0>, <built-in method copy of numpy.ndarray object at 0x0000025A73D8D650>, <built-in method copy of numpy.ndarray object at 0x0000025A73D8D590>, <built-in method copy of numpy.ndarray object at 0x0000025A73D8D410>, <built-in method copy of numpy.ndarray object at 0x0000025A73D8CFF0>, <built-in method copy of numpy.ndarray object at 0x0000025A73D8FBD0>, <built-in method copy of numpy.ndarray object at 0x0000025A73D8D8F0>, <built-in method copy of numpy.ndarray object at 0x0000025A73D8CD50>, <built-in method copy of numpy.ndarray object at 0x0000025A73D8EFD0>, <built-in method copy of numpy.ndarray object at 0x0000025A73D8DF50>, <built-in method copy of numpy.ndarray object at 0x0000025A73D8FDB0>]  historua\n",
      "[[4.99947571]\n",
      " [1.99979028]] x  [<built-in method copy of numpy.ndarray object at 0x0000025A7333D590>, <built-in method copy of numpy.ndarray object at 0x0000025A7333D1D0>, <built-in method copy of numpy.ndarray object at 0x0000025A73D8FCF0>, <built-in method copy of numpy.ndarray object at 0x0000025A73D8F9F0>, <built-in method copy of numpy.ndarray object at 0x0000025A73D8FD50>, <built-in method copy of numpy.ndarray object at 0x0000025A73D8DAD0>, <built-in method copy of numpy.ndarray object at 0x0000025A73D8D710>, <built-in method copy of numpy.ndarray object at 0x0000025A73D8D950>, <built-in method copy of numpy.ndarray object at 0x0000025A73D8D4D0>, <built-in method copy of numpy.ndarray object at 0x0000025A73D8D650>, <built-in method copy of numpy.ndarray object at 0x0000025A73D8D590>, <built-in method copy of numpy.ndarray object at 0x0000025A73D8D410>, <built-in method copy of numpy.ndarray object at 0x0000025A73D8CFF0>, <built-in method copy of numpy.ndarray object at 0x0000025A73D8FBD0>, <built-in method copy of numpy.ndarray object at 0x0000025A73D8D8F0>, <built-in method copy of numpy.ndarray object at 0x0000025A73D8CD50>, <built-in method copy of numpy.ndarray object at 0x0000025A73D8EFD0>, <built-in method copy of numpy.ndarray object at 0x0000025A73D8DF50>, <built-in method copy of numpy.ndarray object at 0x0000025A73D8FDB0>, <built-in method copy of numpy.ndarray object at 0x0000025A73D8F510>]  historua\n",
      "[[5.00020972]\n",
      " [1.99979028]] x  [<built-in method copy of numpy.ndarray object at 0x0000025A7333D590>, <built-in method copy of numpy.ndarray object at 0x0000025A7333D1D0>, <built-in method copy of numpy.ndarray object at 0x0000025A73D8FCF0>, <built-in method copy of numpy.ndarray object at 0x0000025A73D8F9F0>, <built-in method copy of numpy.ndarray object at 0x0000025A73D8FD50>, <built-in method copy of numpy.ndarray object at 0x0000025A73D8DAD0>, <built-in method copy of numpy.ndarray object at 0x0000025A73D8D710>, <built-in method copy of numpy.ndarray object at 0x0000025A73D8D950>, <built-in method copy of numpy.ndarray object at 0x0000025A73D8D4D0>, <built-in method copy of numpy.ndarray object at 0x0000025A73D8D650>, <built-in method copy of numpy.ndarray object at 0x0000025A73D8D590>, <built-in method copy of numpy.ndarray object at 0x0000025A73D8D410>, <built-in method copy of numpy.ndarray object at 0x0000025A73D8CFF0>, <built-in method copy of numpy.ndarray object at 0x0000025A73D8FBD0>, <built-in method copy of numpy.ndarray object at 0x0000025A73D8D8F0>, <built-in method copy of numpy.ndarray object at 0x0000025A73D8CD50>, <built-in method copy of numpy.ndarray object at 0x0000025A73D8EFD0>, <built-in method copy of numpy.ndarray object at 0x0000025A73D8DF50>, <built-in method copy of numpy.ndarray object at 0x0000025A73D8FDB0>, <built-in method copy of numpy.ndarray object at 0x0000025A73D8F510>, <built-in method copy of numpy.ndarray object at 0x0000025A73E144B0>]  historua\n",
      "[[5.00020972]\n",
      " [2.00008389]] x  [<built-in method copy of numpy.ndarray object at 0x0000025A7333D590>, <built-in method copy of numpy.ndarray object at 0x0000025A7333D1D0>, <built-in method copy of numpy.ndarray object at 0x0000025A73D8FCF0>, <built-in method copy of numpy.ndarray object at 0x0000025A73D8F9F0>, <built-in method copy of numpy.ndarray object at 0x0000025A73D8FD50>, <built-in method copy of numpy.ndarray object at 0x0000025A73D8DAD0>, <built-in method copy of numpy.ndarray object at 0x0000025A73D8D710>, <built-in method copy of numpy.ndarray object at 0x0000025A73D8D950>, <built-in method copy of numpy.ndarray object at 0x0000025A73D8D4D0>, <built-in method copy of numpy.ndarray object at 0x0000025A73D8D650>, <built-in method copy of numpy.ndarray object at 0x0000025A73D8D590>, <built-in method copy of numpy.ndarray object at 0x0000025A73D8D410>, <built-in method copy of numpy.ndarray object at 0x0000025A73D8CFF0>, <built-in method copy of numpy.ndarray object at 0x0000025A73D8FBD0>, <built-in method copy of numpy.ndarray object at 0x0000025A73D8D8F0>, <built-in method copy of numpy.ndarray object at 0x0000025A73D8CD50>, <built-in method copy of numpy.ndarray object at 0x0000025A73D8EFD0>, <built-in method copy of numpy.ndarray object at 0x0000025A73D8DF50>, <built-in method copy of numpy.ndarray object at 0x0000025A73D8FDB0>, <built-in method copy of numpy.ndarray object at 0x0000025A73D8F510>, <built-in method copy of numpy.ndarray object at 0x0000025A73E144B0>, <built-in method copy of numpy.ndarray object at 0x0000025A73E14B10>]  historua\n",
      "[[4.99991611]\n",
      " [2.00008389]] x  [<built-in method copy of numpy.ndarray object at 0x0000025A7333D590>, <built-in method copy of numpy.ndarray object at 0x0000025A7333D1D0>, <built-in method copy of numpy.ndarray object at 0x0000025A73D8FCF0>, <built-in method copy of numpy.ndarray object at 0x0000025A73D8F9F0>, <built-in method copy of numpy.ndarray object at 0x0000025A73D8FD50>, <built-in method copy of numpy.ndarray object at 0x0000025A73D8DAD0>, <built-in method copy of numpy.ndarray object at 0x0000025A73D8D710>, <built-in method copy of numpy.ndarray object at 0x0000025A73D8D950>, <built-in method copy of numpy.ndarray object at 0x0000025A73D8D4D0>, <built-in method copy of numpy.ndarray object at 0x0000025A73D8D650>, <built-in method copy of numpy.ndarray object at 0x0000025A73D8D590>, <built-in method copy of numpy.ndarray object at 0x0000025A73D8D410>, <built-in method copy of numpy.ndarray object at 0x0000025A73D8CFF0>, <built-in method copy of numpy.ndarray object at 0x0000025A73D8FBD0>, <built-in method copy of numpy.ndarray object at 0x0000025A73D8D8F0>, <built-in method copy of numpy.ndarray object at 0x0000025A73D8CD50>, <built-in method copy of numpy.ndarray object at 0x0000025A73D8EFD0>, <built-in method copy of numpy.ndarray object at 0x0000025A73D8DF50>, <built-in method copy of numpy.ndarray object at 0x0000025A73D8FDB0>, <built-in method copy of numpy.ndarray object at 0x0000025A73D8F510>, <built-in method copy of numpy.ndarray object at 0x0000025A73E144B0>, <built-in method copy of numpy.ndarray object at 0x0000025A73E14B10>, <built-in method copy of numpy.ndarray object at 0x0000025A73E14F30>]  historua\n",
      "[[4.99991611]\n",
      " [1.99996645]] x  [<built-in method copy of numpy.ndarray object at 0x0000025A7333D590>, <built-in method copy of numpy.ndarray object at 0x0000025A7333D1D0>, <built-in method copy of numpy.ndarray object at 0x0000025A73D8FCF0>, <built-in method copy of numpy.ndarray object at 0x0000025A73D8F9F0>, <built-in method copy of numpy.ndarray object at 0x0000025A73D8FD50>, <built-in method copy of numpy.ndarray object at 0x0000025A73D8DAD0>, <built-in method copy of numpy.ndarray object at 0x0000025A73D8D710>, <built-in method copy of numpy.ndarray object at 0x0000025A73D8D950>, <built-in method copy of numpy.ndarray object at 0x0000025A73D8D4D0>, <built-in method copy of numpy.ndarray object at 0x0000025A73D8D650>, <built-in method copy of numpy.ndarray object at 0x0000025A73D8D590>, <built-in method copy of numpy.ndarray object at 0x0000025A73D8D410>, <built-in method copy of numpy.ndarray object at 0x0000025A73D8CFF0>, <built-in method copy of numpy.ndarray object at 0x0000025A73D8FBD0>, <built-in method copy of numpy.ndarray object at 0x0000025A73D8D8F0>, <built-in method copy of numpy.ndarray object at 0x0000025A73D8CD50>, <built-in method copy of numpy.ndarray object at 0x0000025A73D8EFD0>, <built-in method copy of numpy.ndarray object at 0x0000025A73D8DF50>, <built-in method copy of numpy.ndarray object at 0x0000025A73D8FDB0>, <built-in method copy of numpy.ndarray object at 0x0000025A73D8F510>, <built-in method copy of numpy.ndarray object at 0x0000025A73E144B0>, <built-in method copy of numpy.ndarray object at 0x0000025A73E14B10>, <built-in method copy of numpy.ndarray object at 0x0000025A73E14F30>, <built-in method copy of numpy.ndarray object at 0x0000025A73E14ED0>]  historua\n",
      "[[5.00003355]\n",
      " [1.99996645]] x  [<built-in method copy of numpy.ndarray object at 0x0000025A7333D590>, <built-in method copy of numpy.ndarray object at 0x0000025A7333D1D0>, <built-in method copy of numpy.ndarray object at 0x0000025A73D8FCF0>, <built-in method copy of numpy.ndarray object at 0x0000025A73D8F9F0>, <built-in method copy of numpy.ndarray object at 0x0000025A73D8FD50>, <built-in method copy of numpy.ndarray object at 0x0000025A73D8DAD0>, <built-in method copy of numpy.ndarray object at 0x0000025A73D8D710>, <built-in method copy of numpy.ndarray object at 0x0000025A73D8D950>, <built-in method copy of numpy.ndarray object at 0x0000025A73D8D4D0>, <built-in method copy of numpy.ndarray object at 0x0000025A73D8D650>, <built-in method copy of numpy.ndarray object at 0x0000025A73D8D590>, <built-in method copy of numpy.ndarray object at 0x0000025A73D8D410>, <built-in method copy of numpy.ndarray object at 0x0000025A73D8CFF0>, <built-in method copy of numpy.ndarray object at 0x0000025A73D8FBD0>, <built-in method copy of numpy.ndarray object at 0x0000025A73D8D8F0>, <built-in method copy of numpy.ndarray object at 0x0000025A73D8CD50>, <built-in method copy of numpy.ndarray object at 0x0000025A73D8EFD0>, <built-in method copy of numpy.ndarray object at 0x0000025A73D8DF50>, <built-in method copy of numpy.ndarray object at 0x0000025A73D8FDB0>, <built-in method copy of numpy.ndarray object at 0x0000025A73D8F510>, <built-in method copy of numpy.ndarray object at 0x0000025A73E144B0>, <built-in method copy of numpy.ndarray object at 0x0000025A73E14B10>, <built-in method copy of numpy.ndarray object at 0x0000025A73E14F30>, <built-in method copy of numpy.ndarray object at 0x0000025A73E14ED0>, <built-in method copy of numpy.ndarray object at 0x0000025A73E140F0>]  historua\n",
      "[[5.00003355]\n",
      " [2.00001342]] x  [<built-in method copy of numpy.ndarray object at 0x0000025A7333D590>, <built-in method copy of numpy.ndarray object at 0x0000025A7333D1D0>, <built-in method copy of numpy.ndarray object at 0x0000025A73D8FCF0>, <built-in method copy of numpy.ndarray object at 0x0000025A73D8F9F0>, <built-in method copy of numpy.ndarray object at 0x0000025A73D8FD50>, <built-in method copy of numpy.ndarray object at 0x0000025A73D8DAD0>, <built-in method copy of numpy.ndarray object at 0x0000025A73D8D710>, <built-in method copy of numpy.ndarray object at 0x0000025A73D8D950>, <built-in method copy of numpy.ndarray object at 0x0000025A73D8D4D0>, <built-in method copy of numpy.ndarray object at 0x0000025A73D8D650>, <built-in method copy of numpy.ndarray object at 0x0000025A73D8D590>, <built-in method copy of numpy.ndarray object at 0x0000025A73D8D410>, <built-in method copy of numpy.ndarray object at 0x0000025A73D8CFF0>, <built-in method copy of numpy.ndarray object at 0x0000025A73D8FBD0>, <built-in method copy of numpy.ndarray object at 0x0000025A73D8D8F0>, <built-in method copy of numpy.ndarray object at 0x0000025A73D8CD50>, <built-in method copy of numpy.ndarray object at 0x0000025A73D8EFD0>, <built-in method copy of numpy.ndarray object at 0x0000025A73D8DF50>, <built-in method copy of numpy.ndarray object at 0x0000025A73D8FDB0>, <built-in method copy of numpy.ndarray object at 0x0000025A73D8F510>, <built-in method copy of numpy.ndarray object at 0x0000025A73E144B0>, <built-in method copy of numpy.ndarray object at 0x0000025A73E14B10>, <built-in method copy of numpy.ndarray object at 0x0000025A73E14F30>, <built-in method copy of numpy.ndarray object at 0x0000025A73E14ED0>, <built-in method copy of numpy.ndarray object at 0x0000025A73E140F0>, <built-in method copy of numpy.ndarray object at 0x0000025A73E15E90>]  historua\n",
      "[[4.99998658]\n",
      " [2.00001342]] x  [<built-in method copy of numpy.ndarray object at 0x0000025A7333D590>, <built-in method copy of numpy.ndarray object at 0x0000025A7333D1D0>, <built-in method copy of numpy.ndarray object at 0x0000025A73D8FCF0>, <built-in method copy of numpy.ndarray object at 0x0000025A73D8F9F0>, <built-in method copy of numpy.ndarray object at 0x0000025A73D8FD50>, <built-in method copy of numpy.ndarray object at 0x0000025A73D8DAD0>, <built-in method copy of numpy.ndarray object at 0x0000025A73D8D710>, <built-in method copy of numpy.ndarray object at 0x0000025A73D8D950>, <built-in method copy of numpy.ndarray object at 0x0000025A73D8D4D0>, <built-in method copy of numpy.ndarray object at 0x0000025A73D8D650>, <built-in method copy of numpy.ndarray object at 0x0000025A73D8D590>, <built-in method copy of numpy.ndarray object at 0x0000025A73D8D410>, <built-in method copy of numpy.ndarray object at 0x0000025A73D8CFF0>, <built-in method copy of numpy.ndarray object at 0x0000025A73D8FBD0>, <built-in method copy of numpy.ndarray object at 0x0000025A73D8D8F0>, <built-in method copy of numpy.ndarray object at 0x0000025A73D8CD50>, <built-in method copy of numpy.ndarray object at 0x0000025A73D8EFD0>, <built-in method copy of numpy.ndarray object at 0x0000025A73D8DF50>, <built-in method copy of numpy.ndarray object at 0x0000025A73D8FDB0>, <built-in method copy of numpy.ndarray object at 0x0000025A73D8F510>, <built-in method copy of numpy.ndarray object at 0x0000025A73E144B0>, <built-in method copy of numpy.ndarray object at 0x0000025A73E14B10>, <built-in method copy of numpy.ndarray object at 0x0000025A73E14F30>, <built-in method copy of numpy.ndarray object at 0x0000025A73E14ED0>, <built-in method copy of numpy.ndarray object at 0x0000025A73E140F0>, <built-in method copy of numpy.ndarray object at 0x0000025A73E15E90>, <built-in method copy of numpy.ndarray object at 0x0000025A73E16070>]  historua\n",
      "[[4.99998658]\n",
      " [1.99999463]] x  [<built-in method copy of numpy.ndarray object at 0x0000025A7333D590>, <built-in method copy of numpy.ndarray object at 0x0000025A7333D1D0>, <built-in method copy of numpy.ndarray object at 0x0000025A73D8FCF0>, <built-in method copy of numpy.ndarray object at 0x0000025A73D8F9F0>, <built-in method copy of numpy.ndarray object at 0x0000025A73D8FD50>, <built-in method copy of numpy.ndarray object at 0x0000025A73D8DAD0>, <built-in method copy of numpy.ndarray object at 0x0000025A73D8D710>, <built-in method copy of numpy.ndarray object at 0x0000025A73D8D950>, <built-in method copy of numpy.ndarray object at 0x0000025A73D8D4D0>, <built-in method copy of numpy.ndarray object at 0x0000025A73D8D650>, <built-in method copy of numpy.ndarray object at 0x0000025A73D8D590>, <built-in method copy of numpy.ndarray object at 0x0000025A73D8D410>, <built-in method copy of numpy.ndarray object at 0x0000025A73D8CFF0>, <built-in method copy of numpy.ndarray object at 0x0000025A73D8FBD0>, <built-in method copy of numpy.ndarray object at 0x0000025A73D8D8F0>, <built-in method copy of numpy.ndarray object at 0x0000025A73D8CD50>, <built-in method copy of numpy.ndarray object at 0x0000025A73D8EFD0>, <built-in method copy of numpy.ndarray object at 0x0000025A73D8DF50>, <built-in method copy of numpy.ndarray object at 0x0000025A73D8FDB0>, <built-in method copy of numpy.ndarray object at 0x0000025A73D8F510>, <built-in method copy of numpy.ndarray object at 0x0000025A73E144B0>, <built-in method copy of numpy.ndarray object at 0x0000025A73E14B10>, <built-in method copy of numpy.ndarray object at 0x0000025A73E14F30>, <built-in method copy of numpy.ndarray object at 0x0000025A73E14ED0>, <built-in method copy of numpy.ndarray object at 0x0000025A73E140F0>, <built-in method copy of numpy.ndarray object at 0x0000025A73E15E90>, <built-in method copy of numpy.ndarray object at 0x0000025A73E16070>, <built-in method copy of numpy.ndarray object at 0x0000025A73E15BF0>]  historua\n",
      "[[5.00000537]\n",
      " [1.99999463]] x  [<built-in method copy of numpy.ndarray object at 0x0000025A7333D590>, <built-in method copy of numpy.ndarray object at 0x0000025A7333D1D0>, <built-in method copy of numpy.ndarray object at 0x0000025A73D8FCF0>, <built-in method copy of numpy.ndarray object at 0x0000025A73D8F9F0>, <built-in method copy of numpy.ndarray object at 0x0000025A73D8FD50>, <built-in method copy of numpy.ndarray object at 0x0000025A73D8DAD0>, <built-in method copy of numpy.ndarray object at 0x0000025A73D8D710>, <built-in method copy of numpy.ndarray object at 0x0000025A73D8D950>, <built-in method copy of numpy.ndarray object at 0x0000025A73D8D4D0>, <built-in method copy of numpy.ndarray object at 0x0000025A73D8D650>, <built-in method copy of numpy.ndarray object at 0x0000025A73D8D590>, <built-in method copy of numpy.ndarray object at 0x0000025A73D8D410>, <built-in method copy of numpy.ndarray object at 0x0000025A73D8CFF0>, <built-in method copy of numpy.ndarray object at 0x0000025A73D8FBD0>, <built-in method copy of numpy.ndarray object at 0x0000025A73D8D8F0>, <built-in method copy of numpy.ndarray object at 0x0000025A73D8CD50>, <built-in method copy of numpy.ndarray object at 0x0000025A73D8EFD0>, <built-in method copy of numpy.ndarray object at 0x0000025A73D8DF50>, <built-in method copy of numpy.ndarray object at 0x0000025A73D8FDB0>, <built-in method copy of numpy.ndarray object at 0x0000025A73D8F510>, <built-in method copy of numpy.ndarray object at 0x0000025A73E144B0>, <built-in method copy of numpy.ndarray object at 0x0000025A73E14B10>, <built-in method copy of numpy.ndarray object at 0x0000025A73E14F30>, <built-in method copy of numpy.ndarray object at 0x0000025A73E14ED0>, <built-in method copy of numpy.ndarray object at 0x0000025A73E140F0>, <built-in method copy of numpy.ndarray object at 0x0000025A73E15E90>, <built-in method copy of numpy.ndarray object at 0x0000025A73E16070>, <built-in method copy of numpy.ndarray object at 0x0000025A73E15BF0>, <built-in method copy of numpy.ndarray object at 0x0000025A73E14A50>]  historua\n",
      "2.000002147483648 history\n"
     ]
    }
   ],
   "source": [
    "%autoreload 2\n",
    "from src import gauss_jacobi\n",
    "A = [[1, 1], [-2, 5]]\n",
    "b = [7, 0]\n",
    "n = len(A)\n",
    "\n",
    "x,h = gauss_jacobi(A=A, b=b, x0=[0]*n, tol=1e-5, max_iter=1000)\n",
    "print(h [0], 'history')\n"
   ]
  },
  {
   "cell_type": "markdown",
   "metadata": {},
   "source": [
    "\n",
    "![alt text](assets/trayectoria.png)\n"
   ]
  },
  {
   "cell_type": "markdown",
   "metadata": {},
   "source": [
    "## Grafique"
   ]
  },
  {
   "cell_type": "code",
   "execution_count": null,
   "metadata": {},
   "outputs": [],
   "source": []
  },
  {
   "cell_type": "markdown",
   "metadata": {},
   "source": [
    "## Use otra estimación inicial\n",
    "$ x_0 = (1, 1)$"
   ]
  },
  {
   "cell_type": "markdown",
   "metadata": {},
   "source": [
    "# Grafique"
   ]
  },
  {
   "cell_type": "code",
   "execution_count": null,
   "metadata": {},
   "outputs": [],
   "source": []
  },
  {
   "cell_type": "markdown",
   "metadata": {},
   "source": [
    "## Gauss-Seidel"
   ]
  },
  {
   "cell_type": "code",
   "execution_count": 13,
   "metadata": {},
   "outputs": [
    {
     "name": "stdout",
     "output_type": "stream",
     "text": [
      "[07-19 20:53:17][INFO] i= 0 x: [0. 0.]\n",
      "[07-19 20:53:17][INFO] i= 1 x: [[7.  2.8]]\n",
      "[07-19 20:53:17][INFO] i= 2 x: [[4.2  1.68]]\n",
      "[07-19 20:53:17][INFO] i= 3 x: [[5.32  2.128]]\n",
      "[07-19 20:53:17][INFO] i= 4 x: [[4.872  1.9488]]\n",
      "[07-19 20:53:17][INFO] i= 5 x: [[5.0512  2.02048]]\n",
      "[07-19 20:53:17][INFO] i= 6 x: [[4.97952  1.991808]]\n",
      "[07-19 20:53:17][INFO] i= 7 x: [[5.008192  2.0032768]]\n",
      "[07-19 20:53:17][INFO] i= 8 x: [[4.9967232  1.99868928]]\n",
      "[07-19 20:53:17][INFO] i= 9 x: [[5.00131072 2.00052429]]\n",
      "[07-19 20:53:17][INFO] i= 10 x: [[4.99947571 1.99979028]]\n",
      "[07-19 20:53:17][INFO] i= 11 x: [[5.00020972 2.00008389]]\n",
      "[07-19 20:53:17][INFO] i= 12 x: [[4.99991611 1.99996645]]\n",
      "[07-19 20:53:17][INFO] i= 13 x: [[5.00003355 2.00001342]]\n",
      "[07-19 20:53:17][INFO] i= 14 x: [[4.99998658 1.99999463]]\n",
      "[07-19 20:53:17][INFO] i= 15 x: [[5.00000537 2.00000215]]\n"
     ]
    },
    {
     "data": {
      "text/plain": [
       "array([[4.99999785],\n",
       "       [1.99999914]])"
      ]
     },
     "execution_count": 13,
     "metadata": {},
     "output_type": "execute_result"
    }
   ],
   "source": [
    "%autoreload 2\n",
    "from src import gauss_seidel\n",
    "# ---------- \n",
    "A = [[1, 1], [-2, 5]]\n",
    "b = [7, 0]\n",
    "n = len(b)\n",
    "gauss_seidel(A=A, b=b, x0=[0]*n, tol=1e-5, max_iter=1000)\n"
   ]
  },
  {
   "cell_type": "markdown",
   "metadata": {},
   "source": [
    "## Grafique el método de Gauss-Seidel\n"
   ]
  },
  {
   "cell_type": "code",
   "execution_count": null,
   "metadata": {},
   "outputs": [],
   "source": []
  },
  {
   "cell_type": "markdown",
   "metadata": {},
   "source": [
    "# Resuelva\n",
    "\n",
    "$ x_1 + x_2 = 6$\n",
    "\n",
    "$  -2 x_1 +  x_2 = 0$"
   ]
  },
  {
   "cell_type": "code",
   "execution_count": 14,
   "metadata": {},
   "outputs": [
    {
     "name": "stdout",
     "output_type": "stream",
     "text": [
      "[07-19 20:56:46][INFO] 2024-07-19 20:56:46.971904\n",
      "[07-19 20:56:46][INFO] i= 0 x: [0. 0.]\n",
      "[07-19 20:56:46][INFO] i= 1 x: [[7.  2.8]]\n",
      "[07-19 20:56:46][INFO] i= 2 x: [[4.2  1.68]]\n",
      "[07-19 20:56:46][INFO] i= 3 x: [[5.32  2.128]]\n",
      "[07-19 20:56:46][INFO] i= 4 x: [[4.872  1.9488]]\n",
      "[07-19 20:56:46][INFO] i= 5 x: [[5.0512  2.02048]]\n",
      "[07-19 20:56:46][INFO] i= 6 x: [[4.97952  1.991808]]\n",
      "[07-19 20:56:46][INFO] i= 7 x: [[5.008192  2.0032768]]\n",
      "[07-19 20:56:46][INFO] i= 8 x: [[4.9967232  1.99868928]]\n",
      "[07-19 20:56:46][INFO] i= 9 x: [[5.00131072 2.00052429]]\n",
      "[07-19 20:56:46][INFO] i= 10 x: [[4.99947571 1.99979028]]\n",
      "[07-19 20:56:46][INFO] i= 11 x: [[5.00020972 2.00008389]]\n",
      "[07-19 20:56:46][INFO] i= 12 x: [[4.99991611 1.99996645]]\n",
      "[07-19 20:56:46][INFO] i= 13 x: [[5.00003355 2.00001342]]\n",
      "[07-19 20:56:46][INFO] i= 14 x: [[4.99998658 1.99999463]]\n",
      "[07-19 20:56:46][INFO] i= 15 x: [[5.00000537 2.00000215]]\n"
     ]
    },
    {
     "data": {
      "text/plain": [
       "array([[4.99999785],\n",
       "       [1.99999914]])"
      ]
     },
     "execution_count": 14,
     "metadata": {},
     "output_type": "execute_result"
    }
   ],
   "source": [
    "%autoreload 2\n",
    "from src import gauss_seidel\n",
    "# ---------- \n",
    "A = [[1, 1], [-2, 5]]\n",
    "b = [7, 0]\n",
    "n = len(b)\n",
    "gauss_seidel(A=A, b=b, x0=[0]*n, tol=1e-5, max_iter=1000)"
   ]
  },
  {
   "cell_type": "code",
   "execution_count": null,
   "metadata": {},
   "outputs": [],
   "source": []
  }
 ],
 "metadata": {
  "kernelspec": {
   "display_name": "Python 3",
   "language": "python",
   "name": "python3"
  },
  "language_info": {
   "codemirror_mode": {
    "name": "ipython",
    "version": 3
   },
   "file_extension": ".py",
   "mimetype": "text/x-python",
   "name": "python",
   "nbconvert_exporter": "python",
   "pygments_lexer": "ipython3",
   "version": "3.12.4"
  }
 },
 "nbformat": 4,
 "nbformat_minor": 2
}
